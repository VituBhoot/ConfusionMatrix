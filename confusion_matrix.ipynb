from sklearn.metrics import confusion_matrix
import seaborn as sns
import matplotlib.pyplot as plt

# Predict the labels of the test set: y_pred
y_pred = model.predict(X_test)

# Compute confusion matrix
cnf_matrix = confusion_matrix(y_test, y_pred)

# Create a heatmap
sns.heatmap(cnf_matrix, annot=True, cmap='Blues', fmt='g')

plt.title('Confusion Matrix')
plt.ylabel('True Label')
plt.xlabel('Predicted Label')
plt.show()
